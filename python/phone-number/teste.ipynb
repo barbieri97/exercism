{
 "cells": [
  {
   "cell_type": "code",
   "execution_count": 77,
   "metadata": {},
   "outputs": [],
   "source": [
    "\"\"\" code to phone number exercise \"\"\"\n",
    "from string import punctuation, ascii_letters\n",
    "\n",
    "class PhoneNumber:\n",
    "    \"\"\" clean a phone number \"\"\"\n",
    "    def __init__(self, number):\n",
    "        check_number = ''.join(item for item in number if item not in '+()- .')\n",
    "\n",
    "\n",
    "        # if a phone number has less than 10 digits.\n",
    "        if len(check_number) < 10:\n",
    "            raise ValueError(\"incorrect number of digits\")\n",
    "        # if a phone number has more than 11 digits.\n",
    "        if len(check_number) > 11:\n",
    "            raise ValueError(\"more than 11 digits\")\n",
    "        # if a phone number has 11 digits, but starts with a number other than 1.\n",
    "        if len(check_number) == 11 and check_number[0] != '1':\n",
    "            raise ValueError(\"11 digits must start with 1\")\n",
    "        # if a phone number has an exchange code that starts with 0.\n",
    "        if (check_number[3] == '0' and len(check_number) ==10) or (check_number[4] == '0' and len(check_number) ==11):\n",
    "            raise ValueError(\"exchange code cannot start with zero\")\n",
    "        # if a phone number has an exchange code that starts with 1.\n",
    "        if (check_number[3] == '1' and len(check_number) == 10) or (check_number[4] == '1' and len(check_number) ==11):\n",
    "            raise ValueError(\"exchange code cannot start with one\")\n",
    "        # if a phone number has an area code that starts with 0.\n",
    "        if (check_number[3] == '0' and len(check_number) == 10) or (check_number[4] == '0' and len(check_number) ==11):\n",
    "            raise ValueError(\"area code cannot start with zero\")\n",
    "        # if a phone number has an area code that starts with 1.\n",
    "        if (check_number[0] == '1' and len(check_number) == 10) or (check_number[1] == '1' and len(check_number) ==11):\n",
    "            raise ValueError(\"area code cannot start with one\")\n",
    "        for item in check_number:\n",
    "            # if a phone number has punctuation in place of some digits.\n",
    "            if item in punctuation:\n",
    "                raise ValueError(\"punctuations not permitted\")\n",
    "            # if a phone number has letters in place of some digits.\n",
    "            if item in ascii_letters:\n",
    "                raise ValueError(\"letters not permitted\")\n",
    "        \n",
    "        self.number = check_number if len(check_number) == 10 else check_number[1:]\n",
    "        self.area_code = self.number[:3]\n",
    "\n",
    "    def __repr__(self):\n",
    "        return f'{self.number}'\n",
    "    \n",
    "    def pretty(self):\n",
    "        \"\"\" create a pretty string to print the number \"\"\"\n",
    "        area_code = f'({self.area_code})'\n",
    "        exchenge_number = self.number[3:6]\n",
    "        subscriber_number = self.number[6:]\n",
    "        return '-'.join(item for item in [area_code, exchenge_number, subscriber_number])\n"
   ]
  },
  {
   "cell_type": "code",
   "execution_count": 78,
   "metadata": {},
   "outputs": [
    {
     "data": {
      "text/plain": [
       "'(323)-456-7890'"
      ]
     },
     "execution_count": 78,
     "metadata": {},
     "output_type": "execute_result"
    }
   ],
   "source": [
    "\"\"\" exchange code cannot start with one \"\"\"\n",
    "PhoneNumber(\"1 (323) 456-7890\").pretty()"
   ]
  }
 ],
 "metadata": {
  "interpreter": {
   "hash": "916dbcbb3f70747c44a77c7bcd40155683ae19c65e1c03b4aa3499c5328201f1"
  },
  "kernelspec": {
   "display_name": "Python 3.8.10 64-bit",
   "language": "python",
   "name": "python3"
  },
  "language_info": {
   "codemirror_mode": {
    "name": "ipython",
    "version": 3
   },
   "file_extension": ".py",
   "mimetype": "text/x-python",
   "name": "python",
   "nbconvert_exporter": "python",
   "pygments_lexer": "ipython3",
   "version": "3.8.10"
  },
  "orig_nbformat": 4
 },
 "nbformat": 4,
 "nbformat_minor": 2
}
