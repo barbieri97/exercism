{
 "cells": [
  {
   "cell_type": "code",
   "execution_count": 3,
   "metadata": {},
   "outputs": [],
   "source": [
    "\"\"\" solution to protein-translation exercise \"\"\"\n",
    "\n",
    "aminoacids= {\n",
    "'Methionine': ('AUG'),\n",
    "'Phenylalanine': ('UUU', 'UUC'),\n",
    "'Leucine': ('UUA', 'UUG'),\n",
    "'Serine': ('UCU', 'UCC', 'UCA', 'UCG'),\n",
    "'Tyrosine': ('UAU', 'UAC'),\n",
    "'Cysteine': ('UGU', 'UGC'),\n",
    "'Tryptophan': ('UGG'),\n",
    "'STOP': ('UAA', 'UAG', 'UGA')\n",
    "}\n",
    "def proteins(strand):\n",
    "    \"\"\" translate a RNA to their proteins  \"\"\"\n",
    "    return None\n",
    "\n",
    "def get_protein(codon):\n",
    "    \"\"\" given a codon return their aminoacid \"\"\"\n",
    "    for item in aminoacids.items():\n",
    "        if codon in item[1]:\n",
    "            return item[0]"
   ]
  },
  {
   "cell_type": "code",
   "execution_count": 4,
   "metadata": {},
   "outputs": [],
   "source": [
    "def get_codons(rna: str) -> list:\n",
    "    \"\"\" given a rna sequence return their codons \"\"\"\n",
    "    codons = []\n",
    "    start, end = 0, 3\n",
    "    for _ in range(len(rna)//3):\n",
    "        codon = get_protein(rna[start:end])\n",
    "        if codon == 'STOP':\n",
    "            return codons\n",
    "        codons.append(codon)\n",
    "        start += 3\n",
    "        end += 3\n",
    "    return codons\n"
   ]
  },
  {
   "cell_type": "code",
   "execution_count": 5,
   "metadata": {},
   "outputs": [
    {
     "data": {
      "text/plain": [
       "['Tryptophan', 'Cysteine', 'Tyrosine']"
      ]
     },
     "execution_count": 5,
     "metadata": {},
     "output_type": "execute_result"
    }
   ],
   "source": [
    "value = \"UGGUGUUAUUAAUGGUUU\"\n",
    "get_codons(value)"
   ]
  },
  {
   "cell_type": "code",
   "execution_count": 46,
   "metadata": {},
   "outputs": [
    {
     "data": {
      "text/plain": [
       "'UGG\\nUGU\\nUAU\\nUAA\\nUGG\\nUUU'"
      ]
     },
     "execution_count": 46,
     "metadata": {},
     "output_type": "execute_result"
    }
   ],
   "source": [
    "from textwrap import wrap, fill\n",
    "fill(value, 3)"
   ]
  },
  {
   "cell_type": "code",
   "execution_count": 6,
   "metadata": {},
   "outputs": [
    {
     "data": {
      "text/plain": [
       "['UGG', 'UGU', 'UAU', 'UAA', 'UGG', 'UUU']"
      ]
     },
     "execution_count": 6,
     "metadata": {},
     "output_type": "execute_result"
    }
   ],
   "source": [
    "import re\n",
    "\n",
    "codons = re.findall(r'.{3}', value)\n",
    "codons"
   ]
  }
 ],
 "metadata": {
  "interpreter": {
   "hash": "916dbcbb3f70747c44a77c7bcd40155683ae19c65e1c03b4aa3499c5328201f1"
  },
  "kernelspec": {
   "display_name": "Python 3.8.10 64-bit",
   "language": "python",
   "name": "python3"
  },
  "language_info": {
   "codemirror_mode": {
    "name": "ipython",
    "version": 3
   },
   "file_extension": ".py",
   "mimetype": "text/x-python",
   "name": "python",
   "nbconvert_exporter": "python",
   "pygments_lexer": "ipython3",
   "version": "3.8.10"
  },
  "orig_nbformat": 4
 },
 "nbformat": 4,
 "nbformat_minor": 2
}
