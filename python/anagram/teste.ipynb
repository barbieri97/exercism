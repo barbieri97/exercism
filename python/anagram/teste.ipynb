{
 "cells": [
  {
   "cell_type": "code",
   "execution_count": 8,
   "metadata": {},
   "outputs": [],
   "source": [
    "\"\"\" code to anagram exercise \"\"\"\n",
    "\n",
    "def find_anagrams(word: str, candidates: list) -> list:\n",
    "    \"\"\"\n",
    "    Find the possible anagrams of the word\n",
    "    :param word: str - string to find his anagrams\n",
    "    :param candidates: list[str] - list of the candidates to anagram\n",
    "    :return: list[str] - list of the anagrams\n",
    "    \"\"\"\n",
    "    return [item for item in candidates if sorted(word.lower()) == sorted(item.lower()) and word.lower() != item.lower()]"
   ]
  },
  {
   "cell_type": "code",
   "execution_count": 9,
   "metadata": {},
   "outputs": [
    {
     "data": {
      "text/plain": [
       "['Silent']"
      ]
     },
     "execution_count": 9,
     "metadata": {},
     "output_type": "execute_result"
    }
   ],
   "source": [
    "candidates = [\"Listen\", \"Silent\", \"LISTEN\"]\n",
    "expected = [\"Silent\"]\n",
    "find_anagrams(\"LISTEN\", candidates)"
   ]
  }
 ],
 "metadata": {
  "interpreter": {
   "hash": "916dbcbb3f70747c44a77c7bcd40155683ae19c65e1c03b4aa3499c5328201f1"
  },
  "kernelspec": {
   "display_name": "Python 3.8.10 64-bit",
   "language": "python",
   "name": "python3"
  },
  "language_info": {
   "codemirror_mode": {
    "name": "ipython",
    "version": 3
   },
   "file_extension": ".py",
   "mimetype": "text/x-python",
   "name": "python",
   "nbconvert_exporter": "python",
   "pygments_lexer": "ipython3",
   "version": "3.8.10"
  },
  "orig_nbformat": 4
 },
 "nbformat": 4,
 "nbformat_minor": 2
}
