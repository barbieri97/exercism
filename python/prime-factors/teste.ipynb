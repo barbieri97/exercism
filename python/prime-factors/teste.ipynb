{
 "cells": [
  {
   "cell_type": "code",
   "execution_count": 7,
   "metadata": {},
   "outputs": [
    {
     "ename": "KeyboardInterrupt",
     "evalue": "",
     "output_type": "error",
     "traceback": [
      "\u001b[0;31m---------------------------------------------------------------------------\u001b[0m",
      "\u001b[0;31mKeyboardInterrupt\u001b[0m                         Traceback (most recent call last)",
      "\u001b[1;32m/home/barbieri/Documents/exercism/env/python/prime-factors/teste.ipynb Cell 1'\u001b[0m in \u001b[0;36m<cell line: 17>\u001b[0;34m()\u001b[0m\n\u001b[1;32m     <a href='vscode-notebook-cell:/home/barbieri/Documents/exercism/env/python/prime-factors/teste.ipynb#ch0000000?line=13'>14</a>\u001b[0m         factor \u001b[39m+\u001b[39m\u001b[39m=\u001b[39m \u001b[39m1\u001b[39m\n\u001b[1;32m     <a href='vscode-notebook-cell:/home/barbieri/Documents/exercism/env/python/prime-factors/teste.ipynb#ch0000000?line=14'>15</a>\u001b[0m     \u001b[39mreturn\u001b[39;00m prime_factors\n\u001b[0;32m---> <a href='vscode-notebook-cell:/home/barbieri/Documents/exercism/env/python/prime-factors/teste.ipynb#ch0000000?line=16'>17</a>\u001b[0m factors(\u001b[39m9\u001b[39;49m)\n",
      "\u001b[1;32m/home/barbieri/Documents/exercism/env/python/prime-factors/teste.ipynb Cell 1'\u001b[0m in \u001b[0;36mfactors\u001b[0;34m(value)\u001b[0m\n\u001b[1;32m     <a href='vscode-notebook-cell:/home/barbieri/Documents/exercism/env/python/prime-factors/teste.ipynb#ch0000000?line=11'>12</a>\u001b[0m         value \u001b[39m/\u001b[39m\u001b[39m=\u001b[39m factor\n\u001b[1;32m     <a href='vscode-notebook-cell:/home/barbieri/Documents/exercism/env/python/prime-factors/teste.ipynb#ch0000000?line=12'>13</a>\u001b[0m         prime_factors\u001b[39m.\u001b[39mappend(factor)\n\u001b[0;32m---> <a href='vscode-notebook-cell:/home/barbieri/Documents/exercism/env/python/prime-factors/teste.ipynb#ch0000000?line=13'>14</a>\u001b[0m     factor \u001b[39m+\u001b[39m\u001b[39m=\u001b[39m \u001b[39m1\u001b[39m\n\u001b[1;32m     <a href='vscode-notebook-cell:/home/barbieri/Documents/exercism/env/python/prime-factors/teste.ipynb#ch0000000?line=14'>15</a>\u001b[0m \u001b[39mreturn\u001b[39;00m prime_factors\n",
      "\u001b[0;31mKeyboardInterrupt\u001b[0m: "
     ]
    }
   ],
   "source": [
    "\n",
    "def factors(value: int) -> list:\n",
    "    \"\"\"\n",
    "    :param value: int - number to verify\n",
    "    :return: list - list of the prime facotrs\n",
    "    \"\"\"\n",
    "    if value <= 1:\n",
    "        return []\n",
    "    prime_factors = []\n",
    "    factor = 2\n",
    "    while value > 1:\n",
    "        if value % factor == 0:\n",
    "            value /= factor\n",
    "            prime_factors.append(factor)\n",
    "        factor += 1\n",
    "    return prime_factors\n",
    "\n",
    "factors(9)"
   ]
  }
 ],
 "metadata": {
  "interpreter": {
   "hash": "916dbcbb3f70747c44a77c7bcd40155683ae19c65e1c03b4aa3499c5328201f1"
  },
  "kernelspec": {
   "display_name": "Python 3.8.10 64-bit",
   "language": "python",
   "name": "python3"
  },
  "language_info": {
   "codemirror_mode": {
    "name": "ipython",
    "version": 3
   },
   "file_extension": ".py",
   "mimetype": "text/x-python",
   "name": "python",
   "nbconvert_exporter": "python",
   "pygments_lexer": "ipython3",
   "version": "3.8.10"
  },
  "orig_nbformat": 4
 },
 "nbformat": 4,
 "nbformat_minor": 2
}
