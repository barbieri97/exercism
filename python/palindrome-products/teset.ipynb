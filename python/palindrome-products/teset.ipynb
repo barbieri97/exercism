{
 "cells": [
  {
   "cell_type": "code",
   "execution_count": 6,
   "metadata": {},
   "outputs": [
    {
     "data": {
      "text/plain": [
       "(9009, [[91, 99]])"
      ]
     },
     "execution_count": 6,
     "metadata": {},
     "output_type": "execute_result"
    }
   ],
   "source": [
    "\n",
    "x = [(i * j, tuple(sorted([i, j]))) for i in range(10,99+1) for j in range(10,99+1)]\n",
    "palindrome = [item for item in x if str(item[0]) == str(item[0])[::-1]]\n",
    "palindrome.sort()\n",
    "smallest = tuple(x for x in palindrome if x[0] == palindrome[-1][0])\n",
    "smallest = set(smallest)\n",
    "palindrome = tuple(smallest)[0][0]\n",
    "products = [list(item[1]) for item in tuple(smallest)]\n",
    "products.sort()\n",
    "palindrome, products"
   ]
  },
  {
   "cell_type": "code",
   "execution_count": 27,
   "metadata": {},
   "outputs": [
    {
     "ename": "IndentationError",
     "evalue": "expected an indented block (2816583869.py, line 41)",
     "output_type": "error",
     "traceback": [
      "\u001b[0;36m  Input \u001b[0;32mIn [27]\u001b[0;36m\u001b[0m\n\u001b[0;31m    def is_palindrome(number):\u001b[0m\n\u001b[0m                              ^\u001b[0m\n\u001b[0;31mIndentationError\u001b[0m\u001b[0;31m:\u001b[0m expected an indented block\n"
     ]
    }
   ],
   "source": [
    "\"\"\" code to plindrome products exercise \"\"\"\n",
    "\n",
    "\n",
    "def largest(min_factor, max_factor):\n",
    "    \"\"\"Given a range of numbers, find the largest palindromes which\n",
    "       are products of two numbers within that range.\n",
    "\n",
    "    :param min_factor: int with a default value of 0\n",
    "    :param max_factor: int\n",
    "    :return: tuple of (palindrome, iterable).\n",
    "             Iterable should contain both factors of the palindrome in an arbitrary order.\n",
    "    \"\"\"\n",
    "    if max_factor <= min_factor:\n",
    "        raise ValueError('min must be <= max')\n",
    "    factors = range(min_factor, max_factor + 1)\n",
    "    products = range(min_factor ** 2, (max_factor**2) +1)\n",
    "    return get_palindrome(factors, products)\n",
    "\n",
    "\n",
    "def smallest(min_factor, max_factor):\n",
    "    \"\"\"Given a range of numbers, find the smallest palindromes which\n",
    "    are products of two numbers within that range.\n",
    "\n",
    "    :param min_factor: int with a default value of 0\n",
    "    :param max_factor: int\n",
    "    :return: tuple of (palindrome, iterable).\n",
    "    Iterable should contain both factors of the palindrome in an arbitrary order.\n",
    "    \"\"\"\n",
    "    if max_factor <= min_factor:\n",
    "        raise ValueError('min must be <= max')\n",
    "    factors = range(min_factor, max_factor + 1)\n",
    "    products = range(max_factor ** 2, (min_factor**2) -1, -1)\n",
    "    return get_palindrome(factors, products)\n",
    "\n",
    "def get_palindrome(factors, products):\n",
    "    for product in products:\n",
    "        if is_palindrome(product):\n",
    "            pairs = []\n",
    "            for factor in factors:\n",
    "                inteiro, resto = divmod(product, factor)\n",
    "                if resto == 0 and inteiro in factors:\n",
    "                    pairs.append([factor, inteiro])\n",
    "            if len(pairs) > 0:\n",
    "                return (product, pairs)\n",
    "    return (None, [])\n",
    "\n",
    "            \n",
    "\n",
    "\n",
    "def is_palindrome(number):\n",
    "    string = str(number)\n",
    "    return string == string[::-1]"
   ]
  },
  {
   "cell_type": "code",
   "execution_count": 13,
   "metadata": {},
   "outputs": [
    {
     "data": {
      "text/plain": [
       "(10201, [(101, 101)])"
      ]
     },
     "execution_count": 13,
     "metadata": {},
     "output_type": "execute_result"
    }
   ],
   "source": [
    "smallest(100, 999)"
   ]
  },
  {
   "cell_type": "code",
   "execution_count": 24,
   "metadata": {},
   "outputs": [
    {
     "data": {
      "text/plain": [
       "True"
      ]
     },
     "execution_count": 24,
     "metadata": {},
     "output_type": "execute_result"
    }
   ],
   "source": [
    "is_palindrome(32123)"
   ]
  }
 ],
 "metadata": {
  "interpreter": {
   "hash": "916dbcbb3f70747c44a77c7bcd40155683ae19c65e1c03b4aa3499c5328201f1"
  },
  "kernelspec": {
   "display_name": "Python 3.8.10 64-bit",
   "language": "python",
   "name": "python3"
  },
  "language_info": {
   "codemirror_mode": {
    "name": "ipython",
    "version": 3
   },
   "file_extension": ".py",
   "mimetype": "text/x-python",
   "name": "python",
   "nbconvert_exporter": "python",
   "pygments_lexer": "ipython3",
   "version": "3.8.10"
  },
  "orig_nbformat": 4
 },
 "nbformat": 4,
 "nbformat_minor": 2
}
