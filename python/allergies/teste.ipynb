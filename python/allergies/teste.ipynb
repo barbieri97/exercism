{
 "cells": [
  {
   "cell_type": "code",
   "execution_count": 7,
   "metadata": {},
   "outputs": [
    {
     "name": "stdout",
     "output_type": "stream",
     "text": [
      "001 << 2 == 0000000100\n",
      "0010000000 &\n",
      "0000000100\n",
      "----------\n",
      "0000000000\n"
     ]
    }
   ],
   "source": [
    "item = 2\n",
    "score = 128\n",
    "a = 1 << item\n",
    "b = score & a\n",
    "\n",
    "print(f\"{bin(1)} << {item} == {bin(a).zfill(10)}\\n{bin(score).zfill(10)} &\\n{bin(a).zfill(10)}\\n{'':-^10}\\n{bin(b).zfill(10)}\".replace('b', '0'))"
   ]
  },
  {
   "cell_type": "code",
   "execution_count": 42,
   "metadata": {},
   "outputs": [
    {
     "data": {
      "text/plain": [
       "[1, 0, 1]"
      ]
     },
     "execution_count": 42,
     "metadata": {},
     "output_type": "execute_result"
    }
   ],
   "source": [
    "number = 5\n",
    "binary = []\n",
    "while number > 1:\n",
    "    number, b = divmod(number,2)\n",
    "    binary.append(b)\n",
    "    if number == 1:\n",
    "        binary.append(number)\n",
    "\n",
    "binary[::-1]"
   ]
  },
  {
   "cell_type": "code",
   "execution_count": 149,
   "metadata": {},
   "outputs": [],
   "source": [
    "\"\"\" code to alergies exercise \"\"\"\n",
    "def _binary(number):\n",
    "    \"\"\" return a string that correspond to binary number \"\"\"\n",
    "    list_binary = []\n",
    "    while number >= 1:\n",
    "        number, binary = divmod(number, 2)\n",
    "        list_binary.append(binary)\n",
    "        # retorna o numero binario ao contrario para facilitar a pesquisa por indexação\n",
    "    return ''.join(str(item) for item in list_binary[:8])\n",
    "\n",
    "class Allergies:\n",
    "    \"\"\" doc string \"\"\"\n",
    "\n",
    "    _allergies = [\n",
    "        'eggs',\n",
    "        'peanuts',\n",
    "        'shellfish',\n",
    "        'strawberries',\n",
    "        'tomatoes',\n",
    "        'chocolate',\n",
    "        'pollen',\n",
    "        'cats'\n",
    "        ]\n",
    "\n",
    "    def __init__(self, score):\n",
    "        self.binary = _binary(score).ljust(8, '0')\n",
    "\n",
    "    def allergic_to(self, item):\n",
    "        \"\"\" doc string \"\"\"\n",
    "        index = self._allergies.index(item)\n",
    "        return self.binary[index] == '1'\n",
    "        \n",
    "\n",
    "\n",
    "    @property\n",
    "    def lst(self):\n",
    "        \"\"\" doc string \"\"\"\n",
    "        return [item for item in self._allergies if self.allergic_to(item)]\n"
   ]
  },
  {
   "cell_type": "code",
   "execution_count": 155,
   "metadata": {},
   "outputs": [
    {
     "data": {
      "text/plain": [
       "'00010100'"
      ]
     },
     "execution_count": 155,
     "metadata": {},
     "output_type": "execute_result"
    }
   ],
   "source": [
    "number = 40\n",
    "bin(number)\n",
    "# Allergies(number).allergic_to('tomatoes')\n",
    "# Allergies(number).lst\n",
    "Allergies(number).binary\n",
    "# _binary(number)"
   ]
  }
 ],
 "metadata": {
  "interpreter": {
   "hash": "916dbcbb3f70747c44a77c7bcd40155683ae19c65e1c03b4aa3499c5328201f1"
  },
  "kernelspec": {
   "display_name": "Python 3.8.10 64-bit",
   "language": "python",
   "name": "python3"
  },
  "language_info": {
   "codemirror_mode": {
    "name": "ipython",
    "version": 3
   },
   "file_extension": ".py",
   "mimetype": "text/x-python",
   "name": "python",
   "nbconvert_exporter": "python",
   "pygments_lexer": "ipython3",
   "version": "3.8.10"
  },
  "orig_nbformat": 4
 },
 "nbformat": 4,
 "nbformat_minor": 2
}
