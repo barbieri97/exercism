{
 "cells": [
  {
   "cell_type": "code",
   "execution_count": 16,
   "metadata": {},
   "outputs": [],
   "source": [
    "from string import ascii_uppercase,  digits\n",
    "from random import choices\n",
    "\n",
    "class Robot:\n",
    "    \"\"\" Create a robot with a random and uinique name \"\"\"\n",
    "    robots_name = set()\n",
    "\n",
    "    def __init__(self):\n",
    "        name_exist = True\n",
    "        # verifica se o nome do robo ja existe\n",
    "        while name_exist:\n",
    "            characters= choices(ascii_uppercase, k=2) + choices(digits, k=3)\n",
    "            check_name = ''.join(item for item in characters)\n",
    "            if check_name not in Robot.robots_name:\n",
    "                Robot.robots_name.add(check_name)\n",
    "                self.name = check_name\n",
    "                name_exist = False\n",
    "    # def __str__(self) -> str:\n",
    "    #     return self.name\n",
    "\n",
    "    def reset(self):\n",
    "        \"\"\" reset the robot \"\"\"\n",
    "        return self.__init__()\n"
   ]
  },
  {
   "cell_type": "code",
   "execution_count": 5,
   "metadata": {},
   "outputs": [],
   "source": [
    "r = Robot()"
   ]
  },
  {
   "cell_type": "code",
   "execution_count": 9,
   "metadata": {},
   "outputs": [
    {
     "data": {
      "text/plain": [
       "{'FK115', 'GX759'}"
      ]
     },
     "execution_count": 9,
     "metadata": {},
     "output_type": "execute_result"
    }
   ],
   "source": [
    "r.robots_name"
   ]
  },
  {
   "cell_type": "code",
   "execution_count": 10,
   "metadata": {},
   "outputs": [],
   "source": [
    "a = Robot()"
   ]
  },
  {
   "cell_type": "code",
   "execution_count": 17,
   "metadata": {},
   "outputs": [
    {
     "name": "stdout",
     "output_type": "stream",
     "text": [
      "QQ883\n"
     ]
    }
   ],
   "source": [
    "print(a)"
   ]
  }
 ],
 "metadata": {
  "interpreter": {
   "hash": "916dbcbb3f70747c44a77c7bcd40155683ae19c65e1c03b4aa3499c5328201f1"
  },
  "kernelspec": {
   "display_name": "Python 3.8.10 64-bit",
   "language": "python",
   "name": "python3"
  },
  "language_info": {
   "codemirror_mode": {
    "name": "ipython",
    "version": 3
   },
   "file_extension": ".py",
   "mimetype": "text/x-python",
   "name": "python",
   "nbconvert_exporter": "python",
   "pygments_lexer": "ipython3",
   "version": "3.8.10"
  },
  "orig_nbformat": 4
 },
 "nbformat": 4,
 "nbformat_minor": 2
}
