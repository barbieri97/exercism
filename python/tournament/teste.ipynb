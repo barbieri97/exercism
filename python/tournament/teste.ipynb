{
 "cells": [
  {
   "cell_type": "code",
   "execution_count": 129,
   "metadata": {},
   "outputs": [],
   "source": [
    "def tally(rows: list) -> list:\n",
    "    \"\"\" receive the matchs and return a table \"\"\"\n",
    "    header = [f\"{'Team': <31}|{'MP': ^4}|{'W ': >4}|{'D ': >4}|{'L ': >4}|{'P': >3}\"]\n",
    "    list_of_results = create_list_results(rows)\n",
    "    dict_of_results = create_dict_of_results(list_of_results)\n",
    "    table = create_table(dict_of_results)\n",
    "    return header + table\n"
   ]
  },
  {
   "cell_type": "code",
   "execution_count": 157,
   "metadata": {},
   "outputs": [],
   "source": [
    "def compute_match(row: str):\n",
    "    \"\"\" recive a string with the result and return a list with the each club points \"\"\"\n",
    "    club_1, club_2, result = row.split(';')\n",
    "    if result == 'win':\n",
    "        return (club_1, [1, 1, 0, 0, 3]), (club_2, [1, 0, 0, 1, 0])\n",
    "    if result == 'loss':\n",
    "        return (club_1, [1, 0, 0, 1, 0]), (club_2, [1, 1, 0, 0, 3])\n",
    "    if result == 'draw':\n",
    "        return (club_1, [1, 0, 1, 0, 1]), (club_2, [1, 0, 1, 0, 1])\n",
    "    return None\n"
   ]
  },
  {
   "cell_type": "code",
   "execution_count": 131,
   "metadata": {},
   "outputs": [],
   "source": [
    "def create_list_results(rows: list):\n",
    "    results = []\n",
    "    for item in rows:\n",
    "        club_1, club_2 = compute_match(item)\n",
    "        results.append(club_1)\n",
    "        results.append(club_2)\n",
    "    return results"
   ]
  },
  {
   "cell_type": "code",
   "execution_count": 132,
   "metadata": {},
   "outputs": [],
   "source": [
    "def create_dict_of_results(results: list) -> dict:\n",
    "    table = {}\n",
    "    for club, statics in results:\n",
    "        if club in table:\n",
    "            table[club][0] += statics[0]\n",
    "            table[club][1] += statics[1]\n",
    "            table[club][2] += statics[2]\n",
    "            table[club][3] += statics[3]\n",
    "            table[club][4] += statics[4]\n",
    "        else:\n",
    "            table[club] = statics\n",
    "    return table"
   ]
  },
  {
   "cell_type": "code",
   "execution_count": 138,
   "metadata": {},
   "outputs": [],
   "source": [
    "def create_table(table: dict) -> list:\n",
    "    clubs = list_2_sort(table)\n",
    "    sorted_clubs = sort_list(clubs)\n",
    "    table_list = []\n",
    "    for item in sorted_clubs:\n",
    "        table_list.append(f\"{item: <31}|{str(table[item][0]) + ' ': >4}|{str(table[item][1]) + ' ': >4}|{str(table[item][2]) + ' ': >4}|{str(table[item][3]) + ' ': >4}|{table[item][4]: >3}\")\n",
    "    return table_list\n",
    "        "
   ]
  },
  {
   "cell_type": "code",
   "execution_count": 165,
   "metadata": {},
   "outputs": [],
   "source": [
    "def sort_list(table_list: list) -> list:\n",
    "    work_list = table_list[:]\n",
    "    work_list.sort()\n",
    "    for index, item in enumerate(work_list):\n",
    "        current_element = item\n",
    "        \n",
    "        while index > 0 and work_list[index - 1][1] > current_element[1]:\n",
    "            work_list[index] = work_list[index - 1]\n",
    "            index -= 1\n",
    "        work_list[index] = current_element\n",
    "    for index, item in enumerate(work_list):\n",
    "        if work_list[index][1] == work_list[index + 1][1] and  work_list[index][0] < work_list[index + 1][0]:\n",
    "            work_list[index], work_list[index + 1] = work_list[index + 1], work_list[index]\n",
    "    return [item[0] for item in work_list][::-1]\n",
    "        "
   ]
  },
  {
   "cell_type": "code",
   "execution_count": null,
   "metadata": {},
   "outputs": [],
   "source": [
    "def sort_when_draw(array: list) -> list:\n",
    "    "
   ]
  },
  {
   "cell_type": "code",
   "execution_count": 166,
   "metadata": {},
   "outputs": [],
   "source": [
    "def list_2_sort(table_list: dict) -> list:\n",
    "    items = [[item[0], item[1][4]] for item in list(table_list.items())]\n",
    "    return items"
   ]
  },
  {
   "cell_type": "code",
   "execution_count": 167,
   "metadata": {},
   "outputs": [],
   "source": [
    "results = [\"Allegoric Alaskans;Blithering Badgers;draw\"]\n",
    "x = tally(results)"
   ]
  },
  {
   "cell_type": "code",
   "execution_count": 168,
   "metadata": {},
   "outputs": [
    {
     "name": "stdout",
     "output_type": "stream",
     "text": [
      "['Team                           | MP |  W |  D |  L |  P', 'Blithering Badgers             |  1 |  0 |  1 |  0 |  1', 'Allegoric Alaskans             |  1 |  0 |  1 |  0 |  1']\n",
      "['Team                           | MP |  W |  D |  L |  P', 'Allegoric Alaskans             |  1 |  0 |  1 |  0 |  1', 'Blithering Badgers             |  1 |  0 |  1 |  0 |  1']\n"
     ]
    }
   ],
   "source": [
    "table = [\n",
    "            \"Team                           | MP |  W |  D |  L |  P\",\n",
    "            \"Allegoric Alaskans             |  1 |  0 |  1 |  0 |  1\",\n",
    "            \"Blithering Badgers             |  1 |  0 |  1 |  0 |  1\",\n",
    "        ]\n",
    "print(x)\n",
    "print(table)"
   ]
  },
  {
   "cell_type": "code",
   "execution_count": 163,
   "metadata": {},
   "outputs": [],
   "source": [
    "assert x == table"
   ]
  }
 ],
 "metadata": {
  "interpreter": {
   "hash": "916dbcbb3f70747c44a77c7bcd40155683ae19c65e1c03b4aa3499c5328201f1"
  },
  "kernelspec": {
   "display_name": "Python 3.8.10 64-bit",
   "language": "python",
   "name": "python3"
  },
  "language_info": {
   "codemirror_mode": {
    "name": "ipython",
    "version": 3
   },
   "file_extension": ".py",
   "mimetype": "text/x-python",
   "name": "python",
   "nbconvert_exporter": "python",
   "pygments_lexer": "ipython3",
   "version": "3.8.10"
  },
  "orig_nbformat": 4
 },
 "nbformat": 4,
 "nbformat_minor": 2
}
